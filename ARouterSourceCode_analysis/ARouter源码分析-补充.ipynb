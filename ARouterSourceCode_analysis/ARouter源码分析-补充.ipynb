{
 "cells": [
  {
   "cell_type": "markdown",
   "metadata": {},
   "source": [
    "# ARouter源码分析 #\n",
    "\n",
    "**补充**"
   ]
  },
  {
   "cell_type": "code",
   "execution_count": null,
   "metadata": {
    "vscode": {
     "languageId": "java"
    }
   },
   "outputs": [],
   "source": [
    "// Warehouse.class\n",
    "class Warehouse {\n",
    "    //存储 需要路由跳转的\"组\"信息\n",
    "    static Map<String, Class<? extends IRouteGroup>> groupsIndex = new HashMap<>();\n",
    "    //存储 需要跳转的具体对象的信息\n",
    "    static Map<String, RouteMeta> routes = new HashMap<>();\n",
    "\n",
    "    //存储 具体provider的信息\n",
    "    static Map<Class, IProvider> providers = new HashMap<>();\n",
    "    //存储 provider\"组\"信息，和上面是一个意思\n",
    "    static Map<String, RouteMeta> providersIndex = new HashMap<>();\n",
    "\n",
    "    //存储 拦截器\"组\"信息\n",
    "    static Map<Integer, Class<? extends IInterceptor>> interceptorsIndex = new UniqueKeyTreeMap<>(\"More than one interceptors use same priority [%s]\");\n",
    "    //存储 具体拦截器\n",
    "    static List<IInterceptor> interceptors = new ArrayList<>();\n",
    " }"
   ]
  }
 ],
 "metadata": {
  "language_info": {
   "name": "python"
  },
  "orig_nbformat": 4
 },
 "nbformat": 4,
 "nbformat_minor": 2
}
