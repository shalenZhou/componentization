{
 "cells": [
  {
   "cell_type": "markdown",
   "metadata": {},
   "source": [
    "# ARouter源码分析 #\n",
    "\n",
    "**2. build**"
   ]
  },
  {
   "cell_type": "code",
   "execution_count": null,
   "metadata": {},
   "outputs": [],
   "source": [
    "ARouter.getInstance().build(\"/main/MainActivity\").navigation()"
   ]
  },
  {
   "cell_type": "markdown",
   "metadata": {},
   "source": [
    "点击build，跳转如下："
   ]
  },
  {
   "cell_type": "code",
   "execution_count": null,
   "metadata": {
    "vscode": {
     "languageId": "java"
    }
   },
   "outputs": [],
   "source": [
    "  /**\n",
    "   * Build the roadmap, draw a postcard.\n",
    "   *\n",
    "   * @param path Where you go.\n",
    "   */\n",
    "    public Postcard build(String path) {\n",
    "        return _ARouter.getInstance().build(path);\n",
    "    }"
   ]
  },
  {
   "cell_type": "markdown",
   "metadata": {},
   "source": [
    "点击7行build，跳转如下："
   ]
  },
  {
   "cell_type": "code",
   "execution_count": null,
   "metadata": {
    "vscode": {
     "languageId": "java"
    }
   },
   "outputs": [],
   "source": [
    "/**\n",
    " * Build postcard by path and default group\n",
    " */\n",
    "protected Postcard build(String path) {\n",
    "    if (TextUtils.isEmpty(path)) {\n",
    "        throw new HandlerException(Consts.TAG + \"Parameter is invalid!\");\n",
    "    } else {\n",
    "        PathReplaceService pService = ARouter.getInstance().navigation(PathReplaceService.class);\n",
    "        if (null != pService) {\n",
    "            path = pService.forString(path);\n",
    "        }\n",
    "        return build(path, extractGroup(path), true);\n",
    "    }\n",
    "}"
   ]
  },
  {
   "cell_type": "markdown",
   "metadata": {},
   "source": [
    "点击12行build，跳转如下："
   ]
  },
  {
   "cell_type": "code",
   "execution_count": null,
   "metadata": {
    "vscode": {
     "languageId": "java"
    }
   },
   "outputs": [],
   "source": [
    "/**\n",
    " * Build postcard by path and group\n",
    " */\n",
    "protected Postcard build(String path, String group, Boolean afterReplace) {\n",
    "    if (TextUtils.isEmpty(path) || TextUtils.isEmpty(group)) {\n",
    "        throw new HandlerException(Consts.TAG + \"Parameter is invalid!\");\n",
    "    } else {\n",
    "        if (!afterReplace) {\n",
    "            PathReplaceService pService = ARouter.getInstance().navigation(PathReplaceService.class);\n",
    "            if (null != pService) {\n",
    "                path = pService.forString(path);\n",
    "            }\n",
    "        }\n",
    "        return new Postcard(path, group);\n",
    "    }\n",
    "}"
   ]
  },
  {
   "cell_type": "markdown",
   "metadata": {},
   "source": [
    "返回一个Postcard，含有path，组名等等信息。最后调用navigation方法"
   ]
  }
 ],
 "metadata": {
  "language_info": {
   "name": "python"
  },
  "orig_nbformat": 4
 },
 "nbformat": 4,
 "nbformat_minor": 2
}
