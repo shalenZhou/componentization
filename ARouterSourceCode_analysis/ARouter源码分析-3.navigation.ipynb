{
 "cells": [
  {
   "cell_type": "markdown",
   "metadata": {},
   "source": [
    "# ARouter源码分析 #\n",
    "\n",
    "**3. navigation**"
   ]
  },
  {
   "cell_type": "code",
   "execution_count": null,
   "metadata": {
    "vscode": {
     "languageId": "java"
    }
   },
   "outputs": [],
   "source": [
    "ARouter.getInstance().build(\"/main/MainActivity\").navigation()"
   ]
  },
  {
   "cell_type": "markdown",
   "metadata": {},
   "source": [
    "点击navigation，跳转如下："
   ]
  },
  {
   "cell_type": "code",
   "execution_count": null,
   "metadata": {
    "vscode": {
     "languageId": "java"
    }
   },
   "outputs": [],
   "source": [
    "/**\n",
    " * Navigation to the route with path in postcard.\n",
    " * No param, will be use application context.\n",
    " */\n",
    "public Object navigation() {\n",
    "    return navigation(null);\n",
    "}"
   ]
  },
  {
   "cell_type": "markdown",
   "metadata": {},
   "source": [
    "点击6行navigation，跳转如下："
   ]
  },
  {
   "cell_type": "code",
   "execution_count": null,
   "metadata": {
    "vscode": {
     "languageId": "java"
    }
   },
   "outputs": [],
   "source": [
    "/**\n",
    " * Navigation to the route with path in postcard.\n",
    " *\n",
    " * @param context Activity and so on.\n",
    " */\n",
    "public Object navigation(Context context) {\n",
    "    return navigation(context, null);\n",
    "}"
   ]
  },
  {
   "cell_type": "markdown",
   "metadata": {},
   "source": [
    "点击7行navigation，跳转如下："
   ]
  },
  {
   "cell_type": "code",
   "execution_count": null,
   "metadata": {
    "vscode": {
     "languageId": "java"
    }
   },
   "outputs": [],
   "source": [
    "/**\n",
    " * Navigation to the route with path in postcard.\n",
    " *\n",
    " * @param context Activity and so on.\n",
    " */\n",
    "public Object navigation(Context context, NavigationCallback callback) {\n",
    "    return ARouter.getInstance().navigation(context, this, -1, callback);\n",
    "}"
   ]
  },
  {
   "cell_type": "markdown",
   "metadata": {},
   "source": [
    "点击7行navigation，跳转如下："
   ]
  },
  {
   "cell_type": "code",
   "execution_count": null,
   "metadata": {
    "vscode": {
     "languageId": "java"
    }
   },
   "outputs": [],
   "source": [
    "/**\n",
    " * Launch the navigation.\n",
    " *\n",
    " * @param mContext    .\n",
    " * @param postcard    .\n",
    " * @param requestCode Set for startActivityForResult\n",
    " * @param callback    cb\n",
    " */\n",
    "public Object navigation(Context mContext, Postcard postcard, int requestCode, NavigationCallback callback) {\n",
    "    return _ARouter.getInstance().navigation(mContext, postcard, requestCode, callback);\n",
    "}"
   ]
  },
  {
   "cell_type": "markdown",
   "metadata": {},
   "source": [
    "点击10行navigation，跳转如下："
   ]
  },
  {
   "cell_type": "code",
   "execution_count": null,
   "metadata": {
    "vscode": {
     "languageId": "java"
    }
   },
   "outputs": [],
   "source": [
    "/**\n",
    " * Use router navigation.\n",
    " *\n",
    " * @param context     Activity or null.\n",
    " * @param postcard    Route metas\n",
    " * @param requestCode RequestCode\n",
    " * @param callback    cb\n",
    " */\n",
    "protected Object navigation(final Context context, final Postcard postcard, final int requestCode, final NavigationCallback callback) {\n",
    "    PretreatmentService pretreatmentService = ARouter.getInstance().navigation(PretreatmentService.class);\n",
    "    if (null != pretreatmentService && !pretreatmentService.onPretreatment(context, postcard)) {\n",
    "        // Pretreatment failed, navigation canceled.\n",
    "        return null;\n",
    "    }\n",
    "\n",
    "    // Set context to postcard.\n",
    "    postcard.setContext(null == context ? mContext : context);\n",
    "\n",
    "    try {\n",
    "        LogisticsCenter.completion(postcard);\n",
    "    } catch (NoRouteFoundException ex) {\n",
    "        logger.warning(Consts.TAG, ex.getMessage());\n",
    "\n",
    "        if (debuggable()) {\n",
    "            // Show friendly tips for user.\n",
    "            runInMainThread(new Runnable() {\n",
    "                @Override\n",
    "                public void run() {\n",
    "                    Toast.makeText(mContext, \"There's no route matched!\\n\" +\n",
    "                            \" Path = [\" + postcard.getPath() + \"]\\n\" +\n",
    "                            \" Group = [\" + postcard.getGroup() + \"]\", Toast.LENGTH_LONG).show();\n",
    "                }\n",
    "            });\n",
    "        }\n",
    "\n",
    "        if (null != callback) {\n",
    "            callback.onLost(postcard);\n",
    "        } else {\n",
    "            // No callback for this invoke, then we use the global degrade service.\n",
    "            DegradeService degradeService = ARouter.getInstance().navigation(DegradeService.class);\n",
    "            if (null != degradeService) {\n",
    "                degradeService.onLost(context, postcard);\n",
    "            }\n",
    "        }\n",
    "\n",
    "        return null;\n",
    "    }\n",
    "\n",
    "    if (null != callback) {\n",
    "        callback.onFound(postcard);\n",
    "    }\n",
    "\n",
    "    if (!postcard.isGreenChannel()) {   // It must be run in async thread, maybe interceptor cost too mush time made ANR.\n",
    "        ...\n",
    "    } else {\n",
    "        return _navigation(postcard, requestCode, callback);\n",
    "    }\n",
    "\n",
    "    return null;\n",
    "}"
   ]
  },
  {
   "cell_type": "markdown",
   "metadata": {},
   "source": [
    "点击20行completion，跳转如下："
   ]
  },
  {
   "cell_type": "code",
   "execution_count": null,
   "metadata": {
    "vscode": {
     "languageId": "java"
    }
   },
   "outputs": [],
   "source": [
    "/**\n",
    " * Completion the postcard by route metas\n",
    " *\n",
    " * @param postcard Incomplete postcard, should complete by this method.\n",
    " */\n",
    "public synchronized static void completion(Postcard postcard) {\n",
    "    if (null == postcard) {\n",
    "        throw new NoRouteFoundException(TAG + \"No postcard!\");\n",
    "    }\n",
    "\n",
    "    // RouteMeta class: It contains basic route information.\n",
    "    // RouteMeta保存着一些路由所需要的一些基本信息，例如路径，组名，类名等等\n",
    "    RouteMeta routeMeta = Warehouse.routes.get(postcard.getPath());\n",
    "    if (null == routeMeta) {\n",
    "        // Maybe its does't exist, or didn't load.\n",
    "        if (!Warehouse.groupsIndex.containsKey(postcard.getGroup())) { //获取group信息\n",
    "            throw new NoRouteFoundException(TAG + \"There is no route match the path [\" + postcard.getPath() + \"], in group [\" + postcard.getGroup() + \"]\");\n",
    "        } else {\n",
    "            // Load route and cache it into memory, then delete from metas.\n",
    "            try {\n",
    "                if (ARouter.debuggable()) {\n",
    "                    logger.debug(TAG, String.format(Locale.getDefault(), \"The group [%s] starts loading, trigger by [%s]\", postcard.getGroup(), postcard.getPath()));\n",
    "                }\n",
    "\n",
    "                addRouteGroupDynamic(postcard.getGroup(), null); //获取到RouteMeta实例\n",
    "\n",
    "                if (ARouter.debuggable()) {\n",
    "                    logger.debug(TAG, String.format(Locale.getDefault(), \"The group [%s] has already been loaded, trigger by [%s]\", postcard.getGroup(), postcard.getPath()));\n",
    "                }\n",
    "            } catch (Exception e) {\n",
    "                throw new HandlerException(TAG + \"Fatal exception when loading group meta. [\" + e.getMessage() + \"]\");\n",
    "            }\n",
    "\n",
    "            completion(postcard);   // Reload 进入else分支\n",
    "        }\n",
    "    } else {\n",
    "        ...\n",
    "    }\n",
    "}"
   ]
  },
  {
   "cell_type": "markdown",
   "metadata": {},
   "source": [
    "点击24行addRouteGroupDynamic，跳转如下："
   ]
  },
  {
   "cell_type": "code",
   "execution_count": null,
   "metadata": {
    "vscode": {
     "languageId": "java"
    }
   },
   "outputs": [],
   "source": [
    "public synchronized static void addRouteGroupDynamic(String groupName, IRouteGroup group) throws NoSuchMethodException, IllegalAccessException, InvocationTargetException, InstantiationException {\n",
    "    if (Warehouse.groupsIndex.containsKey(groupName)){\n",
    "        // If this group is included, but it has not been loaded\n",
    "        // load this group first, because dynamic route has high priority.\n",
    "        Warehouse.groupsIndex.get(groupName).getConstructor().newInstance().loadInto(Warehouse.routes);\n",
    "        Warehouse.groupsIndex.remove(groupName);\n",
    "    }\n",
    "\n",
    "    ...\n",
    "}"
   ]
  },
  {
   "cell_type": "markdown",
   "metadata": {},
   "source": [
    "5行，通过反射获取IRouteGroup接口的实现类，接着调用loadInto方法，目的是创建并加载RouteMeta实例"
   ]
  },
  {
   "cell_type": "markdown",
   "metadata": {},
   "source": [
    "跳回到如下位置"
   ]
  },
  {
   "cell_type": "code",
   "execution_count": null,
   "metadata": {
    "vscode": {
     "languageId": "java"
    }
   },
   "outputs": [],
   "source": [
    "/**\n",
    " * Use router navigation.\n",
    " *\n",
    " * @param context     Activity or null.\n",
    " * @param postcard    Route metas\n",
    " * @param requestCode RequestCode\n",
    " * @param callback    cb\n",
    " */\n",
    "protected Object navigation(final Context context, final Postcard postcard, final int requestCode, final NavigationCallback callback) {\n",
    "    PretreatmentService pretreatmentService = ARouter.getInstance().navigation(PretreatmentService.class);\n",
    "    if (null != pretreatmentService && !pretreatmentService.onPretreatment(context, postcard)) {\n",
    "        // Pretreatment failed, navigation canceled.\n",
    "        return null;\n",
    "    }\n",
    "\n",
    "    // Set context to postcard.\n",
    "    postcard.setContext(null == context ? mContext : context);\n",
    "\n",
    "    try {\n",
    "        LogisticsCenter.completion(postcard);\n",
    "    } catch (NoRouteFoundException ex) {\n",
    "        ...\n",
    "    }\n",
    "\n",
    "    if (null != callback) {\n",
    "        callback.onFound(postcard);\n",
    "    }\n",
    "\n",
    "    if (!postcard.isGreenChannel()) {   // It must be run in async thread, maybe interceptor cost too mush time made ANR.\n",
    "        interceptorService.doInterceptions(postcard, new InterceptorCallback() {\n",
    "            /**\n",
    "             * Continue process\n",
    "             *\n",
    "             * @param postcard route meta\n",
    "             */\n",
    "            @Override\n",
    "            public void onContinue(Postcard postcard) {\n",
    "                _navigation(postcard, requestCode, callback);\n",
    "            }\n",
    "\n",
    "            /**\n",
    "             * Interrupt process, pipeline will be destory when this method called.\n",
    "             *\n",
    "             * @param exception Reson of interrupt.\n",
    "             */\n",
    "            @Override\n",
    "            public void onInterrupt(Throwable exception) {\n",
    "                if (null != callback) {\n",
    "                    callback.onInterrupt(postcard);\n",
    "                }\n",
    "\n",
    "                logger.info(Consts.TAG, \"Navigation failed, termination by interceptor : \" + exception.getMessage());\n",
    "            }\n",
    "        });\n",
    "    } else {\n",
    "        return _navigation(postcard, requestCode, callback);\n",
    "    }\n",
    "\n",
    "    return null;\n",
    "}"
   ]
  },
  {
   "cell_type": "markdown",
   "metadata": {},
   "source": [
    "点击56行_navigation，跳转如下："
   ]
  },
  {
   "cell_type": "code",
   "execution_count": null,
   "metadata": {
    "vscode": {
     "languageId": "java"
    }
   },
   "outputs": [],
   "source": [
    "private Object _navigation(final Postcard postcard, final int requestCode, final NavigationCallback callback) {\n",
    "    final Context currentContext = postcard.getContext();\n",
    "\n",
    "    switch (postcard.getType()) {\n",
    "        case ACTIVITY:\n",
    "            // Build intent\n",
    "            final Intent intent = new Intent(currentContext, postcard.getDestination());\n",
    "            intent.putExtras(postcard.getExtras());\n",
    "\n",
    "            // Set flags.\n",
    "            int flags = postcard.getFlags();\n",
    "            if (0 != flags) {\n",
    "                intent.setFlags(flags);\n",
    "            }\n",
    "\n",
    "            // Non activity, need FLAG_ACTIVITY_NEW_TASK\n",
    "            if (!(currentContext instanceof Activity)) {\n",
    "                intent.addFlags(Intent.FLAG_ACTIVITY_NEW_TASK);\n",
    "            }\n",
    "\n",
    "            // Set Actions\n",
    "            String action = postcard.getAction();\n",
    "            if (!TextUtils.isEmpty(action)) {\n",
    "                intent.setAction(action);\n",
    "            }\n",
    "\n",
    "            // Navigation in main looper.\n",
    "            runInMainThread(new Runnable() {\n",
    "                @Override\n",
    "                public void run() {\n",
    "                    startActivity(requestCode, currentContext, intent, postcard, callback);\n",
    "                }\n",
    "            });\n",
    "\n",
    "            break;\n",
    "        case PROVIDER:\n",
    "            return postcard.getProvider();\n",
    "        case BOARDCAST:\n",
    "        case CONTENT_PROVIDER:\n",
    "        case FRAGMENT:\n",
    "            Class<?> fragmentMeta = postcard.getDestination();\n",
    "            try {\n",
    "                Object instance = fragmentMeta.getConstructor().newInstance();\n",
    "                if (instance instanceof Fragment) {\n",
    "                    ((Fragment) instance).setArguments(postcard.getExtras());\n",
    "                } else if (instance instanceof android.support.v4.app.Fragment) {\n",
    "                    ((android.support.v4.app.Fragment) instance).setArguments(postcard.getExtras());\n",
    "                }\n",
    "\n",
    "                return instance;\n",
    "            } catch (Exception ex) {\n",
    "                logger.error(Consts.TAG, \"Fetch fragment instance error, \" + TextUtils.formatStackTrace(ex.getStackTrace()));\n",
    "            }\n",
    "        case METHOD:\n",
    "        case SERVICE:\n",
    "        default:\n",
    "            return null;\n",
    "    }\n",
    "\n",
    "    return null;\n",
    "}"
   ]
  },
  {
   "cell_type": "markdown",
   "metadata": {},
   "source": [
    "31行startActivity，跳转Activity"
   ]
  }
 ],
 "metadata": {
  "language_info": {
   "name": "python"
  },
  "orig_nbformat": 4
 },
 "nbformat": 4,
 "nbformat_minor": 2
}
